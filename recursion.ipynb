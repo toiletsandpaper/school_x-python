{
 "cells": [
  {
   "cell_type": "code",
   "execution_count": 27,
   "id": "57e44b35-3918-4486-ae25-8ea64de31a2d",
   "metadata": {},
   "outputs": [
    {
     "name": "stdout",
     "output_type": "stream",
     "text": [
      "Note: you may need to restart the kernel to use updated packages.\n"
     ]
    }
   ],
   "source": [
    "%pip install -q rich\n",
    "from rich import print"
   ]
  },
  {
   "cell_type": "code",
   "execution_count": 34,
   "id": "5ecbc903-7e4a-4a85-b278-90bcc5f07631",
   "metadata": {},
   "outputs": [],
   "source": [
    "tree = {\n",
    "    1: {\n",
    "        'first_inner': {\n",
    "            1: 'text',\n",
    "            2: 'text',\n",
    "            3: 'text',\n",
    "        },\n",
    "    },\n",
    "    2: {\n",
    "        'second_inner': {\n",
    "            'second_2_inner': {\n",
    "                'second_3_inner_1': {\n",
    "                    1: 'folder',\n",
    "                    2: 'folder',\n",
    "                    3: 'target_folder',\n",
    "                },\n",
    "                'second_3_inner_2': [1, 2, 3]\n",
    "            }\n",
    "        }\n",
    "    },\n",
    "}"
   ]
  },
  {
   "cell_type": "code",
   "execution_count": 35,
   "id": "98a8d667-4802-45aa-b272-d9bb84c1b72f",
   "metadata": {},
   "outputs": [
    {
     "data": {
      "text/plain": [
       "{1: {'first_inner': {1: 'text', 2: 'text', 3: 'text'}},\n",
       " 2: {'second_inner': {'second_2_inner': {'second_3_inner_1': {1: 'folder',\n",
       "     2: 'folder',\n",
       "     3: 'target_folder'},\n",
       "    'second_3_inner_2': [1, 2, 3]}}}}"
      ]
     },
     "execution_count": 35,
     "metadata": {},
     "output_type": "execute_result"
    }
   ],
   "source": [
    "tree"
   ]
  },
  {
   "cell_type": "code",
   "execution_count": 54,
   "id": "852bf56b-16c2-46da-bef8-00f3d83070b0",
   "metadata": {},
   "outputs": [],
   "source": [
    "def rec_find(tree: dict, name: str):\n",
    "    for key, value in tree.items():\n",
    "        if isinstance(value, dict):\n",
    "            rec_find(tree, name)\n",
    "        else:\n",
    "            if value == name:\n",
    "                print('FOUND IT')\n",
    "                "
   ]
  },
  {
   "cell_type": "code",
   "execution_count": 55,
   "id": "6d61756c-317c-4c21-8baf-4080c264de3c",
   "metadata": {},
   "outputs": [
    {
     "ename": "RecursionError",
     "evalue": "maximum recursion depth exceeded while calling a Python object",
     "output_type": "error",
     "traceback": [
      "\u001b[1;31m---------------------------------------------------------------------------\u001b[0m",
      "\u001b[1;31mRecursionError\u001b[0m                            Traceback (most recent call last)",
      "Cell \u001b[1;32mIn[55], line 1\u001b[0m\n\u001b[1;32m----> 1\u001b[0m \u001b[43mrec_find\u001b[49m\u001b[43m(\u001b[49m\u001b[43mtree\u001b[49m\u001b[43m,\u001b[49m\u001b[43m \u001b[49m\u001b[38;5;124;43m'\u001b[39;49m\u001b[38;5;124;43mfolder\u001b[39;49m\u001b[38;5;124;43m'\u001b[39;49m\u001b[43m)\u001b[49m\n",
      "Cell \u001b[1;32mIn[54], line 4\u001b[0m, in \u001b[0;36mrec_find\u001b[1;34m(tree, name)\u001b[0m\n\u001b[0;32m      2\u001b[0m \u001b[38;5;28;01mfor\u001b[39;00m key, value \u001b[38;5;129;01min\u001b[39;00m tree\u001b[38;5;241m.\u001b[39mitems():\n\u001b[0;32m      3\u001b[0m     \u001b[38;5;28;01mif\u001b[39;00m \u001b[38;5;28misinstance\u001b[39m(value, \u001b[38;5;28mdict\u001b[39m):\n\u001b[1;32m----> 4\u001b[0m         \u001b[43mrec_find\u001b[49m\u001b[43m(\u001b[49m\u001b[43mtree\u001b[49m\u001b[43m,\u001b[49m\u001b[43m \u001b[49m\u001b[43mname\u001b[49m\u001b[43m)\u001b[49m\n\u001b[0;32m      5\u001b[0m     \u001b[38;5;28;01melse\u001b[39;00m:\n\u001b[0;32m      6\u001b[0m         \u001b[38;5;28;01mif\u001b[39;00m value \u001b[38;5;241m==\u001b[39m name:\n",
      "Cell \u001b[1;32mIn[54], line 4\u001b[0m, in \u001b[0;36mrec_find\u001b[1;34m(tree, name)\u001b[0m\n\u001b[0;32m      2\u001b[0m \u001b[38;5;28;01mfor\u001b[39;00m key, value \u001b[38;5;129;01min\u001b[39;00m tree\u001b[38;5;241m.\u001b[39mitems():\n\u001b[0;32m      3\u001b[0m     \u001b[38;5;28;01mif\u001b[39;00m \u001b[38;5;28misinstance\u001b[39m(value, \u001b[38;5;28mdict\u001b[39m):\n\u001b[1;32m----> 4\u001b[0m         \u001b[43mrec_find\u001b[49m\u001b[43m(\u001b[49m\u001b[43mtree\u001b[49m\u001b[43m,\u001b[49m\u001b[43m \u001b[49m\u001b[43mname\u001b[49m\u001b[43m)\u001b[49m\n\u001b[0;32m      5\u001b[0m     \u001b[38;5;28;01melse\u001b[39;00m:\n\u001b[0;32m      6\u001b[0m         \u001b[38;5;28;01mif\u001b[39;00m value \u001b[38;5;241m==\u001b[39m name:\n",
      "    \u001b[1;31m[... skipping similar frames: rec_find at line 4 (2970 times)]\u001b[0m\n",
      "Cell \u001b[1;32mIn[54], line 4\u001b[0m, in \u001b[0;36mrec_find\u001b[1;34m(tree, name)\u001b[0m\n\u001b[0;32m      2\u001b[0m \u001b[38;5;28;01mfor\u001b[39;00m key, value \u001b[38;5;129;01min\u001b[39;00m tree\u001b[38;5;241m.\u001b[39mitems():\n\u001b[0;32m      3\u001b[0m     \u001b[38;5;28;01mif\u001b[39;00m \u001b[38;5;28misinstance\u001b[39m(value, \u001b[38;5;28mdict\u001b[39m):\n\u001b[1;32m----> 4\u001b[0m         \u001b[43mrec_find\u001b[49m\u001b[43m(\u001b[49m\u001b[43mtree\u001b[49m\u001b[43m,\u001b[49m\u001b[43m \u001b[49m\u001b[43mname\u001b[49m\u001b[43m)\u001b[49m\n\u001b[0;32m      5\u001b[0m     \u001b[38;5;28;01melse\u001b[39;00m:\n\u001b[0;32m      6\u001b[0m         \u001b[38;5;28;01mif\u001b[39;00m value \u001b[38;5;241m==\u001b[39m name:\n",
      "Cell \u001b[1;32mIn[54], line 2\u001b[0m, in \u001b[0;36mrec_find\u001b[1;34m(tree, name)\u001b[0m\n\u001b[0;32m      1\u001b[0m \u001b[38;5;28;01mdef\u001b[39;00m \u001b[38;5;21mrec_find\u001b[39m(tree: \u001b[38;5;28mdict\u001b[39m, name: \u001b[38;5;28mstr\u001b[39m):\n\u001b[1;32m----> 2\u001b[0m     \u001b[38;5;28;01mfor\u001b[39;00m key, value \u001b[38;5;129;01min\u001b[39;00m tree\u001b[38;5;241m.\u001b[39mitems():\n\u001b[0;32m      3\u001b[0m         \u001b[38;5;28;01mif\u001b[39;00m \u001b[38;5;28misinstance\u001b[39m(value, \u001b[38;5;28mdict\u001b[39m):\n\u001b[0;32m      4\u001b[0m             rec_find(tree, name)\n",
      "\u001b[1;31mRecursionError\u001b[0m: maximum recursion depth exceeded while calling a Python object"
     ]
    }
   ],
   "source": [
    "rec_find(tree, 'folder')"
   ]
  },
  {
   "cell_type": "code",
   "execution_count": null,
   "id": "9537b208-12be-4296-9676-7c22a0c36617",
   "metadata": {},
   "outputs": [],
   "source": [
    "a = 2"
   ]
  },
  {
   "cell_type": "code",
   "execution_count": 19,
   "id": "148abd2e-4bd9-43fa-ae85-4a30e65b475c",
   "metadata": {},
   "outputs": [
    {
     "data": {
      "text/plain": [
       "int"
      ]
     },
     "execution_count": 19,
     "metadata": {},
     "output_type": "execute_result"
    }
   ],
   "source": [
    "type(a)"
   ]
  },
  {
   "cell_type": "code",
   "execution_count": 22,
   "id": "981ae828-d455-4a16-a423-3c24f65da980",
   "metadata": {},
   "outputs": [
    {
     "data": {
      "text/plain": [
       "False"
      ]
     },
     "execution_count": 22,
     "metadata": {},
     "output_type": "execute_result"
    }
   ],
   "source": [
    "isinstance(a, str)"
   ]
  },
  {
   "cell_type": "code",
   "execution_count": null,
   "id": "4a928fe7-3b9b-4dfe-b190-d99ff788c678",
   "metadata": {},
   "outputs": [],
   "source": []
  }
 ],
 "metadata": {
  "kernelspec": {
   "display_name": "Python 3 (ipykernel)",
   "language": "python",
   "name": "python3"
  },
  "language_info": {
   "codemirror_mode": {
    "name": "ipython",
    "version": 3
   },
   "file_extension": ".py",
   "mimetype": "text/x-python",
   "name": "python",
   "nbconvert_exporter": "python",
   "pygments_lexer": "ipython3",
   "version": "3.11.5"
  },
  "widgets": {
   "application/vnd.jupyter.widget-state+json": {
    "state": {},
    "version_major": 2,
    "version_minor": 0
   }
  }
 },
 "nbformat": 4,
 "nbformat_minor": 5
}
