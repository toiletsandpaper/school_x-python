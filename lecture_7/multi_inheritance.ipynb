{
 "cells": [
  {
   "cell_type": "code",
   "execution_count": 46,
   "id": "1db5c8b1-17c4-4d78-885a-9145817d6a29",
   "metadata": {},
   "outputs": [],
   "source": [
    "class MixinFlyable:\n",
    "    def fly(self):\n",
    "        print('I fly')\n",
    "\n",
    "class MixinWalkable:\n",
    "    def walk(self):\n",
    "        print('I walk')\n",
    "\n",
    "class MixinSwimable:\n",
    "    def swim(self):\n",
    "        print('I swim')\n",
    "\n",
    "class MixinTalkable:\n",
    "    def make_noise(self):\n",
    "        print('Tweet')\n"
   ]
  },
  {
   "cell_type": "code",
   "execution_count": 60,
   "id": "7f6d137e-3bd4-4e3c-846b-25ed1dde4ed0",
   "metadata": {},
   "outputs": [],
   "source": [
    "class BaseBird:\n",
    "    wings_length_cm: float = 12.5\n",
    "    legs_length_cm: float = 3.5\n",
    "    color: str = 'red'\n",
    "\n",
    "    def __init__(\n",
    "        self, \n",
    "        wings_length_cm: float = 12.5,\n",
    "        legs_length_cm: float = 3.5,\n",
    "        color: str = 'red',\n",
    "    ):\n",
    "        self.wings_length: float = wings_length_cm\n",
    "        self.legs_length: float = legs_length_cm\n",
    "        self.color: str = color\n",
    "        print('BaseBird Initialized')\n",
    "\n",
    "class Bird(\n",
    "    BaseBird,\n",
    "    MixinFlyable, \n",
    "    MixinWalkable, \n",
    "    MixinSwimable,\n",
    "    MixinTalkable,\n",
    "):\n",
    "    pass\n",
    "\n",
    "class RubberToy(MixinTalkable):\n",
    "    toxic: bool = False\n",
    "    size_cm3: float = 12\n",
    "    color: str = 'yellow'\n",
    "    \n",
    "    def __init__(\n",
    "        self,\n",
    "        toxic: bool = False,\n",
    "        size_cm3: float = 12,\n",
    "        color: str = 'yellow',\n",
    "    ):\n",
    "        self.toxic: bool = toxic\n",
    "        self.size_cm3: float = size_cm3\n",
    "        self.color: str = color\n",
    "        print('RubberToy Initialized')\n",
    "    \n",
    "    def bounce(self):\n",
    "        print('plums')\n",
    "\n",
    "    def deform(self):\n",
    "        print('morphing time')\n",
    "\n",
    "    def make_noise(self):\n",
    "        print('peep')"
   ]
  },
  {
   "cell_type": "code",
   "execution_count": 61,
   "id": "65715bd2-9a0d-4fbe-a7da-5609493ece31",
   "metadata": {},
   "outputs": [
    {
     "name": "stdout",
     "output_type": "stream",
     "text": [
      "BaseBird Initialized\n",
      "Tweet\n"
     ]
    }
   ],
   "source": [
    "bird1 = Bird()\n",
    "bird1.make_noise()"
   ]
  },
  {
   "cell_type": "code",
   "execution_count": 62,
   "id": "01307043-88a0-4dc2-b3ce-4aeb20e1ae47",
   "metadata": {},
   "outputs": [
    {
     "name": "stdout",
     "output_type": "stream",
     "text": [
      "RubberToy Initialized\n",
      "peep\n"
     ]
    }
   ],
   "source": [
    "toy1 = RubberToy()\n",
    "toy1.make_noise()"
   ]
  },
  {
   "cell_type": "code",
   "execution_count": 63,
   "id": "2dcb0e58-f02e-43bc-9c01-bab7e83fd814",
   "metadata": {},
   "outputs": [],
   "source": [
    "class RubberBird(\n",
    "    RubberToy, \n",
    "    BaseBird\n",
    "):\n",
    "    pass"
   ]
  },
  {
   "cell_type": "code",
   "execution_count": 64,
   "id": "b10dc5f1-f5f5-49c3-9366-e2559b83b4d8",
   "metadata": {},
   "outputs": [
    {
     "name": "stdout",
     "output_type": "stream",
     "text": [
      "RubberToy Initialized\n"
     ]
    }
   ],
   "source": [
    "rub_bird1 = RubberBird()"
   ]
  },
  {
   "cell_type": "code",
   "execution_count": 65,
   "id": "5b49a57d-4b0c-450e-8cab-25cdeb209000",
   "metadata": {},
   "outputs": [
    {
     "data": {
      "text/plain": [
       "12.5"
      ]
     },
     "execution_count": 65,
     "metadata": {},
     "output_type": "execute_result"
    }
   ],
   "source": [
    "#rub_bird1.fly()\n",
    "rub_bird1.wings_length_cm"
   ]
  },
  {
   "cell_type": "code",
   "execution_count": 66,
   "id": "e0478bc0-558f-4a66-93cd-7ea8f9031afb",
   "metadata": {},
   "outputs": [
    {
     "name": "stdout",
     "output_type": "stream",
     "text": [
      "morphing time\n"
     ]
    }
   ],
   "source": [
    "rub_bird1.deform()"
   ]
  },
  {
   "cell_type": "code",
   "execution_count": 67,
   "id": "d41906c5-87fe-4b0d-87f6-ff8b69e96f4e",
   "metadata": {},
   "outputs": [
    {
     "name": "stdout",
     "output_type": "stream",
     "text": [
      "peep\n"
     ]
    }
   ],
   "source": [
    "rub_bird1.make_noise()"
   ]
  },
  {
   "cell_type": "code",
   "execution_count": null,
   "id": "770d7815-276e-41c7-8a28-67451e1d0c5c",
   "metadata": {},
   "outputs": [],
   "source": []
  },
  {
   "cell_type": "code",
   "execution_count": null,
   "id": "18aaa756-23eb-4fd8-afc3-80ef7a86d25c",
   "metadata": {},
   "outputs": [],
   "source": []
  },
  {
   "cell_type": "code",
   "execution_count": null,
   "id": "bbab9924-fe7c-4c09-8d31-2718dcc5e275",
   "metadata": {},
   "outputs": [],
   "source": []
  }
 ],
 "metadata": {
  "kernelspec": {
   "display_name": "Python 3 (ipykernel)",
   "language": "python",
   "name": "python3"
  },
  "language_info": {
   "codemirror_mode": {
    "name": "ipython",
    "version": 3
   },
   "file_extension": ".py",
   "mimetype": "text/x-python",
   "name": "python",
   "nbconvert_exporter": "python",
   "pygments_lexer": "ipython3",
   "version": "3.11.5"
  },
  "widgets": {
   "application/vnd.jupyter.widget-state+json": {
    "state": {},
    "version_major": 2,
    "version_minor": 0
   }
  }
 },
 "nbformat": 4,
 "nbformat_minor": 5
}
