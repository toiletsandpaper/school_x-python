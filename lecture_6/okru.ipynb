{
 "cells": [
  {
   "cell_type": "code",
   "execution_count": 64,
   "id": "b94783b9-89e5-4df7-968e-0bff852ba4d3",
   "metadata": {},
   "outputs": [],
   "source": [
    "class Human:\n",
    "    iq: int = 100\n",
    "\n",
    "    def __init__(\n",
    "        self, \n",
    "        weight: float | int = 80, \n",
    "        height: float | int = 170, \n",
    "        name: str | None = None,\n",
    "    ):\n",
    "        self.weight = weight\n",
    "        self.height = height\n",
    "        self.name = name\n",
    "\n",
    "    def walk(self, speed: float | int = 1.0):\n",
    "        print('Я иду со скоростью:', speed)\n",
    "\n",
    "    def run(self, speed: float | int = 5.0):\n",
    "        if self.weight > 110:\n",
    "            print('Я не могу бегать')\n",
    "        else:\n",
    "            print('Я бегу')\n",
    "\n",
    "    def breathe(self):\n",
    "        if self.height >= 200:\n",
    "            print('Тут наверху трудно дышать')\n",
    "        elif self.weight >= 180:\n",
    "            print('Мне просто трудно дышать')\n",
    "        elif self.iq < 60:\n",
    "            print('Я забыл как дышать')\n",
    "        else:\n",
    "            print('Я дышу')\n",
    "\n"
   ]
  },
  {
   "cell_type": "code",
   "execution_count": 65,
   "id": "cd02023b-39fc-4e45-8808-b6efecedf195",
   "metadata": {},
   "outputs": [],
   "source": [
    "vova1 = Human()"
   ]
  },
  {
   "cell_type": "code",
   "execution_count": 66,
   "id": "283c22a3-baff-4e0c-a6e8-292470abd44d",
   "metadata": {},
   "outputs": [
    {
     "name": "stdout",
     "output_type": "stream",
     "text": [
      "Я иду со скоростью: 3\n"
     ]
    }
   ],
   "source": [
    "vova1.walk(speed=3)"
   ]
  },
  {
   "cell_type": "code",
   "execution_count": 67,
   "id": "e3107e49-158f-4f8a-bbef-58c3cf0f5c2a",
   "metadata": {},
   "outputs": [],
   "source": [
    "vova1.weight\n",
    "vova1.name = 'Vova'"
   ]
  },
  {
   "cell_type": "code",
   "execution_count": 68,
   "id": "2f22548b-cac5-4489-b76e-857dceb09b48",
   "metadata": {},
   "outputs": [
    {
     "name": "stdout",
     "output_type": "stream",
     "text": [
      "Я бегу\n"
     ]
    }
   ],
   "source": [
    "vova1.run()"
   ]
  },
  {
   "cell_type": "code",
   "execution_count": 69,
   "id": "8a9f91ab-897c-4810-9e33-f460bb370f6d",
   "metadata": {},
   "outputs": [],
   "source": [
    "vova2 = Human(\n",
    "    height=90,\n",
    "    weight=220,\n",
    "    name='Vova'\n",
    ")"
   ]
  },
  {
   "cell_type": "code",
   "execution_count": 70,
   "id": "f958df81-f66c-4606-814e-62046fb21bf7",
   "metadata": {},
   "outputs": [
    {
     "data": {
      "text/plain": [
       "100"
      ]
     },
     "execution_count": 70,
     "metadata": {},
     "output_type": "execute_result"
    }
   ],
   "source": [
    "vova2.iq"
   ]
  },
  {
   "cell_type": "code",
   "execution_count": 71,
   "id": "9cd896b9-a8cb-4692-94d3-5b8cf2be0543",
   "metadata": {},
   "outputs": [
    {
     "name": "stdout",
     "output_type": "stream",
     "text": [
      "Я не могу бегать\n"
     ]
    }
   ],
   "source": [
    "vova2.run()"
   ]
  },
  {
   "cell_type": "code",
   "execution_count": 72,
   "id": "1b47da14-da13-4fce-bea2-b5f33b4cda85",
   "metadata": {},
   "outputs": [
    {
     "data": {
      "text/plain": [
       "220"
      ]
     },
     "execution_count": 72,
     "metadata": {},
     "output_type": "execute_result"
    }
   ],
   "source": [
    "vova2.weight"
   ]
  },
  {
   "cell_type": "code",
   "execution_count": 76,
   "id": "15e0f409-0d39-46b8-a073-23a8e994c0c6",
   "metadata": {},
   "outputs": [],
   "source": [
    "vova3 = Human(height=300, weight=90)\n",
    "vova4 = Human(height=180, weight=400)\n",
    "vova5 = Human()\n",
    "vova5.iq = 30"
   ]
  },
  {
   "cell_type": "code",
   "execution_count": 77,
   "id": "7f1e3f1c-8c7b-4c2f-b141-d5b84c91b6b3",
   "metadata": {},
   "outputs": [
    {
     "name": "stdout",
     "output_type": "stream",
     "text": [
      "VOVA 3\n",
      "Я иду со скоростью: 1.0\n",
      "Я бегу\n",
      "Тут наверху трудно дышать\n",
      "---------------\n",
      "VOVA 4\n",
      "Я иду со скоростью: 1.0\n",
      "Я не могу бегать\n",
      "Мне просто трудно дышать\n",
      "---------------\n",
      "VOVA 5\n",
      "Я иду со скоростью: 1.0\n",
      "Я бегу\n",
      "Я забыл как дышать\n",
      "---------------\n"
     ]
    }
   ],
   "source": [
    "vovas_list: list[Human] = [vova3, vova4, vova5]\n",
    "for index_vova, local_vova in enumerate(vovas_list):\n",
    "    index_vova += 3\n",
    "    print('VOVA', index_vova)\n",
    "    local_vova.walk()\n",
    "    local_vova.run()\n",
    "    local_vova.breathe()\n",
    "    print('-' * 15)"
   ]
  },
  {
   "cell_type": "code",
   "execution_count": 91,
   "id": "5765ea85-6169-47e3-ae82-2948addd3f87",
   "metadata": {},
   "outputs": [],
   "source": [
    "class HumanWorker(Human):\n",
    "    \n",
    "    def work(self):\n",
    "        print('Я работаю')\n",
    "\n",
    "    def walk(self, speed = 0.5):\n",
    "        print('Я иду загруженный со скоростью:', speed)\n"
   ]
  },
  {
   "cell_type": "code",
   "execution_count": 88,
   "id": "f97d9f6f-5e55-4957-b345-34026575b5d0",
   "metadata": {},
   "outputs": [],
   "source": [
    "vova_worker1 = HumanWorker()"
   ]
  },
  {
   "cell_type": "code",
   "execution_count": 90,
   "id": "8f7690cd-6e5b-42b1-956d-501a6c4c6dc9",
   "metadata": {},
   "outputs": [
    {
     "name": "stdout",
     "output_type": "stream",
     "text": [
      "Я иду загруженный со скоростью: 0.5\n"
     ]
    }
   ],
   "source": [
    "vova_worker1.walk()"
   ]
  },
  {
   "cell_type": "code",
   "execution_count": 83,
   "id": "887471df-f914-45b5-a348-e0d2adcee95f",
   "metadata": {},
   "outputs": [
    {
     "data": {
      "text/plain": [
       "100"
      ]
     },
     "execution_count": 83,
     "metadata": {},
     "output_type": "execute_result"
    }
   ],
   "source": [
    "vova_worker1.iq"
   ]
  },
  {
   "cell_type": "code",
   "execution_count": 92,
   "id": "9df27eb8-3b97-4d43-abbd-2af15003e957",
   "metadata": {},
   "outputs": [],
   "source": [
    "vova_worker1.pretty_face = True"
   ]
  },
  {
   "cell_type": "code",
   "execution_count": 93,
   "id": "eeb88de0-8d56-4a69-bc8c-dfd300b934a0",
   "metadata": {},
   "outputs": [
    {
     "data": {
      "text/plain": [
       "True"
      ]
     },
     "execution_count": 93,
     "metadata": {},
     "output_type": "execute_result"
    }
   ],
   "source": [
    "vova_worker1.pretty_face"
   ]
  },
  {
   "cell_type": "code",
   "execution_count": null,
   "id": "4d3a5e71-e1c8-4598-8145-fcce8709acde",
   "metadata": {},
   "outputs": [],
   "source": []
  }
 ],
 "metadata": {
  "kernelspec": {
   "display_name": "Python 3 (ipykernel)",
   "language": "python",
   "name": "python3"
  },
  "language_info": {
   "codemirror_mode": {
    "name": "ipython",
    "version": 3
   },
   "file_extension": ".py",
   "mimetype": "text/x-python",
   "name": "python",
   "nbconvert_exporter": "python",
   "pygments_lexer": "ipython3",
   "version": "3.11.5"
  },
  "widgets": {
   "application/vnd.jupyter.widget-state+json": {
    "state": {},
    "version_major": 2,
    "version_minor": 0
   }
  }
 },
 "nbformat": 4,
 "nbformat_minor": 5
}
